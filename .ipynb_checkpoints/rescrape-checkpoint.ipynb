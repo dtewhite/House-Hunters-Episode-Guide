{
 "cells": [
  {
   "cell_type": "code",
   "execution_count": 1,
   "metadata": {},
   "outputs": [],
   "source": [
    "import pandas as pd\n",
    "import numpy as np\n",
    "from bs4 import BeautifulSoup as bs\n",
    "from splinter import Browser\n",
    "from webdriver_manager.chrome import ChromeDriverManager\n",
    "import nbimporter\n",
    "from function import combine_data\n",
    "import time"
   ]
  },
  {
   "cell_type": "code",
   "execution_count": 2,
   "metadata": {},
   "outputs": [
    {
     "data": {
      "text/plain": [
       "[1, 9, 32, 50, 63, 96, 100, 108, 117, 122, 124, 129, 152]"
      ]
     },
     "execution_count": 2,
     "metadata": {},
     "output_type": "execute_result"
    }
   ],
   "source": [
    "# We see that there were a few pages that were not properly scraped from HGTV. Here we check what seasons are missing.\n",
    "\n",
    "og_scraped_df = pd.read_csv('Resources/House_Hunters_International_Seasons_Grouped.csv', index_col = 0)\n",
    "missing_seasons = [ x for x in  np.arange(1,og_scraped_df.iloc[-1,0]) if x not in og_scraped_df['Season'].tolist() ]\n",
    "missing_seasons"
   ]
  },
  {
   "cell_type": "code",
   "execution_count": 3,
   "metadata": {},
   "outputs": [
    {
     "data": {
      "text/plain": [
       "[1, 9, 32, 50, 63, 96, 100, 108, 117, 122, 124, 129, 152, 128, 145, 150]"
      ]
     },
     "execution_count": 3,
     "metadata": {},
     "output_type": "execute_result"
    }
   ],
   "source": [
    "# While reviewing the data, I also noticed a few seasons only had 1 episode, so we will want to rescrape them too. The last \n",
    "# several seasons correctly only have 1 episode, so we exclude them.\n",
    "\n",
    "missing_seasons = missing_seasons + og_scraped_df.loc[og_scraped_df['Episode'] < 3, :].iloc[:-6,:]['Season'].tolist()\n",
    "missing_seasons"
   ]
  },
  {
   "cell_type": "code",
   "execution_count": 4,
   "metadata": {},
   "outputs": [
    {
     "data": {
      "text/plain": [
       "['https://www.hgtv.com/shows/house-hunters-international/episodes/1a',\n",
       " 'https://www.hgtv.com/shows/house-hunters-international/episodes/100',\n",
       " 'https://www.hgtv.com/shows/house-hunters-international/episodes/900',\n",
       " 'https://www.hgtv.com/shows/house-hunters-international/episodes/3200',\n",
       " 'https://www.hgtv.com/shows/house-hunters-international/episodes/5000',\n",
       " 'https://www.hgtv.com/shows/house-hunters-international/episodes/6300',\n",
       " 'https://www.hgtv.com/shows/house-hunters-international/episodes/9600',\n",
       " 'https://www.hgtv.com/shows/house-hunters-international/episodes/10000',\n",
       " 'https://www.hgtv.com/shows/house-hunters-international/episodes/10800',\n",
       " 'https://www.hgtv.com/shows/house-hunters-international/episodes/11700',\n",
       " 'https://www.hgtv.com/shows/house-hunters-international/episodes/12200',\n",
       " 'https://www.hgtv.com/shows/house-hunters-international/episodes/12400',\n",
       " 'https://www.hgtv.com/shows/house-hunters-international/episodes/12900',\n",
       " 'https://www.hgtv.com/shows/house-hunters-international/episodes/12800',\n",
       " 'https://www.hgtv.com/shows/house-hunters-international/episodes/152',\n",
       " 'https://www.hgtv.com/shows/house-hunters-international/episodes/145',\n",
       " 'https://www.hgtv.com/shows/house-hunters-international/episodes/150']"
      ]
     },
     "execution_count": 4,
     "metadata": {},
     "output_type": "execute_result"
    }
   ],
   "source": [
    "# It appears the construction of the seasons' URLs changed over time for some reason. As such, we will need to filter the \n",
    "# seasons by format and concatenate several lists together. Season 1 actually had 2 seperate pages (1a and 100).\n",
    "\n",
    "rescrape_urls = [ f'https://www.hgtv.com/shows/house-hunters-international/episodes/{x}a' for x in missing_seasons if x == 1 ]\\\n",
    "    + [ f'https://www.hgtv.com/shows/house-hunters-international/episodes/{x}00' for x in missing_seasons if x < 145 ]\\\n",
    "    + [ f'https://www.hgtv.com/shows/house-hunters-international/episodes/{x}' for x in missing_seasons if x > 144 ]\n",
    "rescrape_urls"
   ]
  },
  {
   "cell_type": "code",
   "execution_count": 6,
   "metadata": {
    "scrolled": true
   },
   "outputs": [
    {
     "name": "stderr",
     "output_type": "stream",
     "text": [
      "[WDM] - Current google-chrome version is 87.0.4280\n",
      "[WDM] - Get LATEST driver version for 87.0.4280\n",
      "[WDM] - Get LATEST driver version for 87.0.4280\n"
     ]
    },
    {
     "name": "stdout",
     "output_type": "stream",
     "text": [
      " \n"
     ]
    },
    {
     "name": "stderr",
     "output_type": "stream",
     "text": [
      "[WDM] - Trying to download new driver from http://chromedriver.storage.googleapis.com/87.0.4280.88/chromedriver_win32.zip\n",
      "[WDM] - Driver has been saved in cache [C:\\Users\\Dan\\.wdm\\drivers\\chromedriver\\win32\\87.0.4280.88]\n",
      "[WDM] - Current google-chrome version is 87.0.4280\n",
      "[WDM] - Get LATEST driver version for 87.0.4280\n",
      "[WDM] - Driver [C:\\Users\\Dan\\.wdm\\drivers\\chromedriver\\win32\\87.0.4280.88\\chromedriver.exe] found in cache\n"
     ]
    },
    {
     "name": "stdout",
     "output_type": "stream",
     "text": [
      " \n"
     ]
    },
    {
     "name": "stderr",
     "output_type": "stream",
     "text": [
      "[WDM] - Current google-chrome version is 87.0.4280\n",
      "[WDM] - Get LATEST driver version for 87.0.4280\n",
      "[WDM] - Driver [C:\\Users\\Dan\\.wdm\\drivers\\chromedriver\\win32\\87.0.4280.88\\chromedriver.exe] found in cache\n"
     ]
    },
    {
     "name": "stdout",
     "output_type": "stream",
     "text": [
      " \n"
     ]
    },
    {
     "name": "stderr",
     "output_type": "stream",
     "text": [
      "[WDM] - Current google-chrome version is 87.0.4280\n",
      "[WDM] - Get LATEST driver version for 87.0.4280\n",
      "[WDM] - Driver [C:\\Users\\Dan\\.wdm\\drivers\\chromedriver\\win32\\87.0.4280.88\\chromedriver.exe] found in cache\n"
     ]
    },
    {
     "name": "stdout",
     "output_type": "stream",
     "text": [
      " \n"
     ]
    },
    {
     "name": "stderr",
     "output_type": "stream",
     "text": [
      "[WDM] - Current google-chrome version is 87.0.4280\n",
      "[WDM] - Get LATEST driver version for 87.0.4280\n",
      "[WDM] - Driver [C:\\Users\\Dan\\.wdm\\drivers\\chromedriver\\win32\\87.0.4280.88\\chromedriver.exe] found in cache\n"
     ]
    },
    {
     "name": "stdout",
     "output_type": "stream",
     "text": [
      " \n"
     ]
    },
    {
     "name": "stderr",
     "output_type": "stream",
     "text": [
      "[WDM] - Current google-chrome version is 87.0.4280\n",
      "[WDM] - Get LATEST driver version for 87.0.4280\n",
      "[WDM] - Driver [C:\\Users\\Dan\\.wdm\\drivers\\chromedriver\\win32\\87.0.4280.88\\chromedriver.exe] found in cache\n"
     ]
    },
    {
     "name": "stdout",
     "output_type": "stream",
     "text": [
      " \n"
     ]
    },
    {
     "name": "stderr",
     "output_type": "stream",
     "text": [
      "[WDM] - Current google-chrome version is 87.0.4280\n",
      "[WDM] - Get LATEST driver version for 87.0.4280\n",
      "[WDM] - Driver [C:\\Users\\Dan\\.wdm\\drivers\\chromedriver\\win32\\87.0.4280.88\\chromedriver.exe] found in cache\n"
     ]
    },
    {
     "name": "stdout",
     "output_type": "stream",
     "text": [
      " \n"
     ]
    },
    {
     "name": "stderr",
     "output_type": "stream",
     "text": [
      "[WDM] - Current google-chrome version is 87.0.4280\n",
      "[WDM] - Get LATEST driver version for 87.0.4280\n",
      "[WDM] - Driver [C:\\Users\\Dan\\.wdm\\drivers\\chromedriver\\win32\\87.0.4280.88\\chromedriver.exe] found in cache\n"
     ]
    },
    {
     "name": "stdout",
     "output_type": "stream",
     "text": [
      " \n"
     ]
    },
    {
     "name": "stderr",
     "output_type": "stream",
     "text": [
      "[WDM] - Current google-chrome version is 87.0.4280\n",
      "[WDM] - Get LATEST driver version for 87.0.4280\n",
      "[WDM] - Driver [C:\\Users\\Dan\\.wdm\\drivers\\chromedriver\\win32\\87.0.4280.88\\chromedriver.exe] found in cache\n"
     ]
    },
    {
     "name": "stdout",
     "output_type": "stream",
     "text": [
      " \n"
     ]
    },
    {
     "name": "stderr",
     "output_type": "stream",
     "text": [
      "[WDM] - Current google-chrome version is 87.0.4280\n",
      "[WDM] - Get LATEST driver version for 87.0.4280\n",
      "[WDM] - Driver [C:\\Users\\Dan\\.wdm\\drivers\\chromedriver\\win32\\87.0.4280.88\\chromedriver.exe] found in cache\n"
     ]
    },
    {
     "name": "stdout",
     "output_type": "stream",
     "text": [
      " \n"
     ]
    },
    {
     "name": "stderr",
     "output_type": "stream",
     "text": [
      "[WDM] - Current google-chrome version is 87.0.4280\n",
      "[WDM] - Get LATEST driver version for 87.0.4280\n",
      "[WDM] - Driver [C:\\Users\\Dan\\.wdm\\drivers\\chromedriver\\win32\\87.0.4280.88\\chromedriver.exe] found in cache\n"
     ]
    },
    {
     "name": "stdout",
     "output_type": "stream",
     "text": [
      " \n"
     ]
    },
    {
     "name": "stderr",
     "output_type": "stream",
     "text": [
      "[WDM] - Current google-chrome version is 87.0.4280\n",
      "[WDM] - Get LATEST driver version for 87.0.4280\n",
      "[WDM] - Driver [C:\\Users\\Dan\\.wdm\\drivers\\chromedriver\\win32\\87.0.4280.88\\chromedriver.exe] found in cache\n"
     ]
    },
    {
     "name": "stdout",
     "output_type": "stream",
     "text": [
      " \n"
     ]
    },
    {
     "name": "stderr",
     "output_type": "stream",
     "text": [
      "[WDM] - Current google-chrome version is 87.0.4280\n",
      "[WDM] - Get LATEST driver version for 87.0.4280\n",
      "[WDM] - Driver [C:\\Users\\Dan\\.wdm\\drivers\\chromedriver\\win32\\87.0.4280.88\\chromedriver.exe] found in cache\n"
     ]
    },
    {
     "name": "stdout",
     "output_type": "stream",
     "text": [
      " \n"
     ]
    },
    {
     "name": "stderr",
     "output_type": "stream",
     "text": [
      "[WDM] - Current google-chrome version is 87.0.4280\n",
      "[WDM] - Get LATEST driver version for 87.0.4280\n",
      "[WDM] - Driver [C:\\Users\\Dan\\.wdm\\drivers\\chromedriver\\win32\\87.0.4280.88\\chromedriver.exe] found in cache\n"
     ]
    },
    {
     "name": "stdout",
     "output_type": "stream",
     "text": [
      " \n"
     ]
    },
    {
     "name": "stderr",
     "output_type": "stream",
     "text": [
      "[WDM] - Current google-chrome version is 87.0.4280\n",
      "[WDM] - Get LATEST driver version for 87.0.4280\n",
      "[WDM] - Driver [C:\\Users\\Dan\\.wdm\\drivers\\chromedriver\\win32\\87.0.4280.88\\chromedriver.exe] found in cache\n"
     ]
    },
    {
     "name": "stdout",
     "output_type": "stream",
     "text": [
      " \n"
     ]
    },
    {
     "name": "stderr",
     "output_type": "stream",
     "text": [
      "[WDM] - Current google-chrome version is 87.0.4280\n",
      "[WDM] - Get LATEST driver version for 87.0.4280\n",
      "[WDM] - Driver [C:\\Users\\Dan\\.wdm\\drivers\\chromedriver\\win32\\87.0.4280.88\\chromedriver.exe] found in cache\n"
     ]
    },
    {
     "name": "stdout",
     "output_type": "stream",
     "text": [
      " \n"
     ]
    },
    {
     "name": "stderr",
     "output_type": "stream",
     "text": [
      "[WDM] - Current google-chrome version is 87.0.4280\n",
      "[WDM] - Get LATEST driver version for 87.0.4280\n",
      "[WDM] - Driver [C:\\Users\\Dan\\.wdm\\drivers\\chromedriver\\win32\\87.0.4280.88\\chromedriver.exe] found in cache\n"
     ]
    },
    {
     "name": "stdout",
     "output_type": "stream",
     "text": [
      " \n"
     ]
    }
   ],
   "source": [
    "# Here we rescrape the several pages that were determined to have errors.\n",
    "\n",
    "number_list = [] \n",
    "url_list = []\n",
    "title_list = []\n",
    "description_list = []\n",
    "\n",
    "for url in rescrape_urls:\n",
    "    executable_path = {'executable_path': ChromeDriverManager().install()}\n",
    "    browser = Browser('chrome', **executable_path, headless=False)\n",
    "    \n",
    "    browser.visit(url)\n",
    "    html = browser.html\n",
    "    soup = bs(html, 'html.parser')\n",
    "\n",
    "    episodes = soup.find('div', id = 'mod-episode-list-1')\n",
    "\n",
    "    episode_number = episodes.find_all('span', class_='m-EpisodeCard__a-AssetInfo')\n",
    "    episode_url = episodes.find_all('a')\n",
    "    episode_description = episodes.find_all('p', class_='m-EpisodeCard__a-Description')\n",
    "\n",
    "    numbers, urls, titles, descriptions = combine_data(episode_number, episode_url, episode_description)\n",
    "\n",
    "    number_list = number_list + numbers\n",
    "    url_list = url_list + urls\n",
    "    title_list = title_list + titles\n",
    "    description_list = description_list + descriptions\n",
    "    \n",
    "    browser.quit()\n",
    "    \n",
    "    time.sleep(1)"
   ]
  },
  {
   "cell_type": "code",
   "execution_count": 7,
   "metadata": {},
   "outputs": [],
   "source": [
    "# We build a dictionary and then a Data Frame from the 4 lists returned by our web scraper.\n",
    "\n",
    "episode_dict = {}\n",
    "episode_dict['Number'] = number_list\n",
    "episode_dict['Title'] = title_list\n",
    "episode_dict['Description'] = description_list\n",
    "episode_dict['Link'] = url_list\n",
    "\n",
    "episodes_df = pd.DataFrame(episode_dict)"
   ]
  },
  {
   "cell_type": "code",
   "execution_count": 8,
   "metadata": {},
   "outputs": [
    {
     "data": {
      "text/html": [
       "<div>\n",
       "<style scoped>\n",
       "    .dataframe tbody tr th:only-of-type {\n",
       "        vertical-align: middle;\n",
       "    }\n",
       "\n",
       "    .dataframe tbody tr th {\n",
       "        vertical-align: top;\n",
       "    }\n",
       "\n",
       "    .dataframe thead th {\n",
       "        text-align: right;\n",
       "    }\n",
       "</style>\n",
       "<table border=\"1\" class=\"dataframe\">\n",
       "  <thead>\n",
       "    <tr style=\"text-align: right;\">\n",
       "      <th></th>\n",
       "      <th>Number</th>\n",
       "      <th>Title</th>\n",
       "      <th>Description</th>\n",
       "      <th>Link</th>\n",
       "      <th>Season</th>\n",
       "      <th>Episode</th>\n",
       "    </tr>\n",
       "  </thead>\n",
       "  <tbody>\n",
       "    <tr>\n",
       "      <th>0</th>\n",
       "      <td>Season 1, Episode 1</td>\n",
       "      <td>Costa Rica Vacation Home</td>\n",
       "      <td>Mark and Carolle Cotter love living in Northri...</td>\n",
       "      <td>www.hgtv.com/shows/house-hunters-international...</td>\n",
       "      <td>1</td>\n",
       "      <td>1</td>\n",
       "    </tr>\n",
       "    <tr>\n",
       "      <th>1</th>\n",
       "      <td>Season 1, Episode 2</td>\n",
       "      <td>Dominican Vacation Home</td>\n",
       "      <td>Throughout their fifteen years of marriage, St...</td>\n",
       "      <td>www.hgtv.com/shows/house-hunters-international...</td>\n",
       "      <td>1</td>\n",
       "      <td>2</td>\n",
       "    </tr>\n",
       "    <tr>\n",
       "      <th>2</th>\n",
       "      <td>Season 1, Episode 3</td>\n",
       "      <td>Vacation Home in Spain</td>\n",
       "      <td>Lesley and Clive have been together for more t...</td>\n",
       "      <td>www.hgtv.com/shows/house-hunters-international...</td>\n",
       "      <td>1</td>\n",
       "      <td>3</td>\n",
       "    </tr>\n",
       "    <tr>\n",
       "      <th>3</th>\n",
       "      <td>Season 1, Episode 4</td>\n",
       "      <td>Vacation Home in Italy</td>\n",
       "      <td>Peter and Beverly Moule live in Goff's Oak, ju...</td>\n",
       "      <td>www.hgtv.com/shows/house-hunters-international...</td>\n",
       "      <td>1</td>\n",
       "      <td>4</td>\n",
       "    </tr>\n",
       "    <tr>\n",
       "      <th>4</th>\n",
       "      <td>Season 1, Episode 5</td>\n",
       "      <td>Vacation Home in Paris</td>\n",
       "      <td>New Yorkers Jeff Ballinger and Mary Schiller r...</td>\n",
       "      <td>www.hgtv.com/shows/house-hunters-international...</td>\n",
       "      <td>1</td>\n",
       "      <td>5</td>\n",
       "    </tr>\n",
       "    <tr>\n",
       "      <th>...</th>\n",
       "      <td>...</td>\n",
       "      <td>...</td>\n",
       "      <td>...</td>\n",
       "      <td>...</td>\n",
       "      <td>...</td>\n",
       "      <td>...</td>\n",
       "    </tr>\n",
       "    <tr>\n",
       "      <th>205</th>\n",
       "      <td>Season 150, Episode 9</td>\n",
       "      <td>Luxury vs. Frugality in Hoi An</td>\n",
       "      <td>A travel-savvy couple moves to Hoi An, Vietnam...</td>\n",
       "      <td>www.hgtv.com/shows/house-hunters-international...</td>\n",
       "      <td>150</td>\n",
       "      <td>9</td>\n",
       "    </tr>\n",
       "    <tr>\n",
       "      <th>206</th>\n",
       "      <td>Season 150, Episode 10</td>\n",
       "      <td>Engineering a Life Without Carpet in Auckland</td>\n",
       "      <td>A single man relocates to Auckland, New Zealan...</td>\n",
       "      <td>www.hgtv.com/shows/house-hunters-international...</td>\n",
       "      <td>150</td>\n",
       "      <td>10</td>\n",
       "    </tr>\n",
       "    <tr>\n",
       "      <th>207</th>\n",
       "      <td>Season 150, Episode 11</td>\n",
       "      <td>Waking from Hibernation in Sosua, Dominican Re...</td>\n",
       "      <td>A family is tired of cold Toronto winters and ...</td>\n",
       "      <td>www.hgtv.com/shows/house-hunters-international...</td>\n",
       "      <td>150</td>\n",
       "      <td>11</td>\n",
       "    </tr>\n",
       "    <tr>\n",
       "      <th>208</th>\n",
       "      <td>Season 150, Episode 12</td>\n",
       "      <td>French Dreams in Salies-de-Bearn</td>\n",
       "      <td>After unexpected tragedy strikes, a romance wr...</td>\n",
       "      <td>www.hgtv.com/shows/house-hunters-international...</td>\n",
       "      <td>150</td>\n",
       "      <td>12</td>\n",
       "    </tr>\n",
       "    <tr>\n",
       "      <th>209</th>\n",
       "      <td>Season 150, Episode 13</td>\n",
       "      <td>The Newlywed Getaway in Guardia</td>\n",
       "      <td>After three years of dating long distance, a c...</td>\n",
       "      <td>www.hgtv.com/shows/house-hunters-international...</td>\n",
       "      <td>150</td>\n",
       "      <td>13</td>\n",
       "    </tr>\n",
       "  </tbody>\n",
       "</table>\n",
       "<p>210 rows × 6 columns</p>\n",
       "</div>"
      ],
      "text/plain": [
       "                     Number  \\\n",
       "0       Season 1, Episode 1   \n",
       "1       Season 1, Episode 2   \n",
       "2       Season 1, Episode 3   \n",
       "3       Season 1, Episode 4   \n",
       "4       Season 1, Episode 5   \n",
       "..                      ...   \n",
       "205   Season 150, Episode 9   \n",
       "206  Season 150, Episode 10   \n",
       "207  Season 150, Episode 11   \n",
       "208  Season 150, Episode 12   \n",
       "209  Season 150, Episode 13   \n",
       "\n",
       "                                                 Title  \\\n",
       "0                             Costa Rica Vacation Home   \n",
       "1                              Dominican Vacation Home   \n",
       "2                               Vacation Home in Spain   \n",
       "3                               Vacation Home in Italy   \n",
       "4                               Vacation Home in Paris   \n",
       "..                                                 ...   \n",
       "205                     Luxury vs. Frugality in Hoi An   \n",
       "206      Engineering a Life Without Carpet in Auckland   \n",
       "207  Waking from Hibernation in Sosua, Dominican Re...   \n",
       "208                   French Dreams in Salies-de-Bearn   \n",
       "209                    The Newlywed Getaway in Guardia   \n",
       "\n",
       "                                           Description  \\\n",
       "0    Mark and Carolle Cotter love living in Northri...   \n",
       "1    Throughout their fifteen years of marriage, St...   \n",
       "2    Lesley and Clive have been together for more t...   \n",
       "3    Peter and Beverly Moule live in Goff's Oak, ju...   \n",
       "4    New Yorkers Jeff Ballinger and Mary Schiller r...   \n",
       "..                                                 ...   \n",
       "205  A travel-savvy couple moves to Hoi An, Vietnam...   \n",
       "206  A single man relocates to Auckland, New Zealan...   \n",
       "207  A family is tired of cold Toronto winters and ...   \n",
       "208  After unexpected tragedy strikes, a romance wr...   \n",
       "209  After three years of dating long distance, a c...   \n",
       "\n",
       "                                                  Link Season  Episode  \n",
       "0    www.hgtv.com/shows/house-hunters-international...      1        1  \n",
       "1    www.hgtv.com/shows/house-hunters-international...      1        2  \n",
       "2    www.hgtv.com/shows/house-hunters-international...      1        3  \n",
       "3    www.hgtv.com/shows/house-hunters-international...      1        4  \n",
       "4    www.hgtv.com/shows/house-hunters-international...      1        5  \n",
       "..                                                 ...    ...      ...  \n",
       "205  www.hgtv.com/shows/house-hunters-international...    150        9  \n",
       "206  www.hgtv.com/shows/house-hunters-international...    150       10  \n",
       "207  www.hgtv.com/shows/house-hunters-international...    150       11  \n",
       "208  www.hgtv.com/shows/house-hunters-international...    150       12  \n",
       "209  www.hgtv.com/shows/house-hunters-international...    150       13  \n",
       "\n",
       "[210 rows x 6 columns]"
      ]
     },
     "execution_count": 8,
     "metadata": {},
     "output_type": "execute_result"
    }
   ],
   "source": [
    "# Some data cleaning to remove duplicates and seperate the 'Number' column into 'Season' and 'Episode'.\n",
    "\n",
    "episodes_df.drop_duplicates(subset = ['Title'])\n",
    "\n",
    "episodes_df[['Season','Episode']] = episodes_df['Number'].str.split(', ', expand = True)\n",
    "\n",
    "episodes_df['Season'] = episodes_df['Season'].map(lambda x:x.replace('Season ', ''))\n",
    "episodes_df['Episode'] = episodes_df['Episode'].map(lambda x:x.replace('Episode ', '')).astype(int)\n",
    "episodes_df"
   ]
  },
  {
   "cell_type": "code",
   "execution_count": 9,
   "metadata": {},
   "outputs": [],
   "source": [
    "episodes_df.to_csv('Resources/House_Hunters_International_Rescraped.csv')"
   ]
  },
  {
   "cell_type": "code",
   "execution_count": null,
   "metadata": {},
   "outputs": [],
   "source": []
  }
 ],
 "metadata": {
  "kernelspec": {
   "display_name": "Python 3",
   "language": "python",
   "name": "python3"
  },
  "language_info": {
   "codemirror_mode": {
    "name": "ipython",
    "version": 3
   },
   "file_extension": ".py",
   "mimetype": "text/x-python",
   "name": "python",
   "nbconvert_exporter": "python",
   "pygments_lexer": "ipython3",
   "version": "3.7.3"
  }
 },
 "nbformat": 4,
 "nbformat_minor": 2
}
