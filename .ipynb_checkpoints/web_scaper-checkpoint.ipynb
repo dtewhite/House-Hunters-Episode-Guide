{
 "cells": [
  {
   "cell_type": "code",
   "execution_count": 1,
   "metadata": {},
   "outputs": [],
   "source": [
    "from bs4 import BeautifulSoup as bs\n",
    "from splinter import Browser\n",
    "from webdriver_manager.chrome import ChromeDriverManager\n",
    "import pandas as pd\n",
    "import time"
   ]
  },
  {
   "cell_type": "code",
   "execution_count": 2,
   "metadata": {},
   "outputs": [],
   "source": [
    "# Check out fuzzy wuzzy to do sting matching"
   ]
  },
  {
   "cell_type": "code",
   "execution_count": 3,
   "metadata": {},
   "outputs": [],
   "source": [
    "def combine_data(episode_number, episode_url, episode_description):\n",
    "    number_list = []\n",
    "    url_list = []\n",
    "    title_list = []\n",
    "    description_list = []\n",
    "\n",
    "    for i in range(len(episode_number)):\n",
    "        try:\n",
    "            number_list.append(episode_number[i].text.strip())\n",
    "\n",
    "            url_list.append(episode_url[i]['href'].strip('//'))\n",
    "\n",
    "            title_list.append(episode_url[i].text)\n",
    "\n",
    "            description_list.append(episode_description[i].text)\n",
    "        except:\n",
    "            print(f'There was a problem in the function while scraping')\n",
    "            pass\n",
    "    \n",
    "    return number_list, url_list, title_list, description_list"
   ]
  },
  {
   "cell_type": "code",
   "execution_count": 4,
   "metadata": {
    "scrolled": false
   },
   "outputs": [
    {
     "name": "stderr",
     "output_type": "stream",
     "text": [
      "[WDM] - Current google-chrome version is 87.0.4280\n",
      "[WDM] - Get LATEST driver version for 87.0.4280\n",
      "[WDM] - Driver [C:\\Users\\Dan\\.wdm\\drivers\\chromedriver\\win32\\87.0.4280.88\\chromedriver.exe] found in cache\n"
     ]
    },
    {
     "name": "stdout",
     "output_type": "stream",
     "text": [
      " \n"
     ]
    }
   ],
   "source": [
    "executable_path = {'executable_path': ChromeDriverManager().install()}\n",
    "browser = Browser('chrome', **executable_path, headless=False)"
   ]
  },
  {
   "cell_type": "code",
   "execution_count": 5,
   "metadata": {
    "scrolled": true
   },
   "outputs": [],
   "source": [
    "url = 'https://www.hgtv.com/shows/house-hunters-international/episodes/specials'\n",
    "browser.visit(url)"
   ]
  },
  {
   "cell_type": "code",
   "execution_count": 6,
   "metadata": {},
   "outputs": [],
   "source": [
    "not_done = True\n",
    "i = 1\n",
    "number_list = [] \n",
    "url_list = []\n",
    "title_list = []\n",
    "description_list = []"
   ]
  },
  {
   "cell_type": "code",
   "execution_count": 7,
   "metadata": {
    "scrolled": true
   },
   "outputs": [
    {
     "name": "stdout",
     "output_type": "stream",
     "text": [
      "There was a problem here while scaping on page 2\n",
      "There was a problem here while scaping on page 3\n",
      "There was a problem here while scaping on page 36\n",
      "There was a problem here while scaping on page 54\n",
      "There was a problem here while scaping on page 67\n",
      "There was a problem here while scaping on page 100\n",
      "There was a problem here while scaping on page 104\n",
      "There was a problem here while scaping on page 121\n",
      "There was a problem here while scaping on page 126\n",
      "There was a problem here while scaping on page 128\n",
      "There was a problem here while scaping on page 135\n",
      "There was a problem here while scaping on page 162\n",
      "There was a problem here while scaping on page 166\n",
      "Scraping done!\n"
     ]
    }
   ],
   "source": [
    "while not_done:\n",
    "    try:\n",
    "        html = browser.html\n",
    "        soup = bs(html, 'html.parser')\n",
    "\n",
    "        episodes = soup.find('div', id = 'mod-episode-list-1')\n",
    "\n",
    "        episode_number = episodes.find_all('span', class_='m-EpisodeCard__a-AssetInfo')\n",
    "        episode_url = episodes.find_all('a')\n",
    "        episode_description = episodes.find_all('p', class_='m-EpisodeCard__a-Description')\n",
    "\n",
    "        numbers, urls, titles, descriptions = combine_data(episode_number, episode_url, episode_description)\n",
    "\n",
    "        number_list = number_list + numbers\n",
    "        url_list = url_list + urls\n",
    "        title_list = title_list + titles\n",
    "        description_list = description_list + descriptions\n",
    "        \n",
    "    except:\n",
    "        print(f'There was a problem here while scaping on page {i}')\n",
    "    \n",
    "    i += 1\n",
    "    \n",
    "    time.sleep(1) \n",
    "    \n",
    "    try:\n",
    "        browser.find_by_text('Next Season').click()\n",
    "    except:\n",
    "        not_done = False\n",
    "        print(\"Scraping done!\")"
   ]
  },
  {
   "cell_type": "code",
   "execution_count": 8,
   "metadata": {},
   "outputs": [],
   "source": [
    "browser.quit()"
   ]
  },
  {
   "cell_type": "code",
   "execution_count": 9,
   "metadata": {},
   "outputs": [],
   "source": [
    "episode_dict = {}\n",
    "episode_dict['Number'] = number_list\n",
    "episode_dict['Title'] = title_list\n",
    "episode_dict['Description'] = description_list\n",
    "episode_dict['Link'] = url_list"
   ]
  },
  {
   "cell_type": "code",
   "execution_count": 10,
   "metadata": {},
   "outputs": [
    {
     "data": {
      "text/html": [
       "<div>\n",
       "<style scoped>\n",
       "    .dataframe tbody tr th:only-of-type {\n",
       "        vertical-align: middle;\n",
       "    }\n",
       "\n",
       "    .dataframe tbody tr th {\n",
       "        vertical-align: top;\n",
       "    }\n",
       "\n",
       "    .dataframe thead th {\n",
       "        text-align: right;\n",
       "    }\n",
       "</style>\n",
       "<table border=\"1\" class=\"dataframe\">\n",
       "  <thead>\n",
       "    <tr style=\"text-align: right;\">\n",
       "      <th></th>\n",
       "      <th>Number</th>\n",
       "      <th>Title</th>\n",
       "      <th>Description</th>\n",
       "      <th>Link</th>\n",
       "    </tr>\n",
       "  </thead>\n",
       "  <tbody>\n",
       "    <tr>\n",
       "      <th>1710</th>\n",
       "      <td>Season 141, Episode 7</td>\n",
       "      <td>To Buy or Build in Brazil</td>\n",
       "      <td>A corporate attorney from Connecticut is looki...</td>\n",
       "      <td>www.hgtv.com/shows/house-hunters-international...</td>\n",
       "    </tr>\n",
       "    <tr>\n",
       "      <th>142</th>\n",
       "      <td>Season 12, Episode 11</td>\n",
       "      <td>Canadians Buy in Punta Cana, Dominican Republic</td>\n",
       "      <td>Perry and Cheryl Meriot are Edmonton Alberta n...</td>\n",
       "      <td>www.hgtv.com/shows/house-hunters-international...</td>\n",
       "    </tr>\n",
       "    <tr>\n",
       "      <th>1529</th>\n",
       "      <td>Season 127, Episode 6</td>\n",
       "      <td>Seeking Character and Views in Manchester</td>\n",
       "      <td>A Canadian couple living in Qatar is moving to...</td>\n",
       "      <td>www.hgtv.com/shows/house-hunters-international...</td>\n",
       "    </tr>\n",
       "    <tr>\n",
       "      <th>331</th>\n",
       "      <td>Season 27, Episode 5</td>\n",
       "      <td>Countdown to Gaeta, Italy</td>\n",
       "      <td>Joshua, Kimberly, and Meridian Matheson are mo...</td>\n",
       "      <td>www.hgtv.com/shows/house-hunters-international...</td>\n",
       "    </tr>\n",
       "    <tr>\n",
       "      <th>136</th>\n",
       "      <td>Season 12, Episode 5</td>\n",
       "      <td>Second Home in Calabria, Italy</td>\n",
       "      <td>Salinas, California high school math teacher, ...</td>\n",
       "      <td>www.hgtv.com/shows/house-hunters-international...</td>\n",
       "    </tr>\n",
       "    <tr>\n",
       "      <th>6</th>\n",
       "      <td>Season 2, Episode 21</td>\n",
       "      <td>Hotel Owners Search for a New Home on Harbour ...</td>\n",
       "      <td>We asked and you voted! Now see which of your ...</td>\n",
       "      <td>www.hgtv.com/shows/house-hunters-international...</td>\n",
       "    </tr>\n",
       "    <tr>\n",
       "      <th>1719</th>\n",
       "      <td>Season 142, Episode 3</td>\n",
       "      <td>Chasing a Better Life in Glasgow</td>\n",
       "      <td>A couple faces financial risks and other compl...</td>\n",
       "      <td>www.hgtv.com/shows/house-hunters-international...</td>\n",
       "    </tr>\n",
       "    <tr>\n",
       "      <th>902</th>\n",
       "      <td>Season 74, Episode 04</td>\n",
       "      <td>Pier Pressure in Freeport</td>\n",
       "      <td>Sean and Danielle first met during spring brea...</td>\n",
       "      <td>www.hgtv.com/shows/house-hunters-international...</td>\n",
       "    </tr>\n",
       "    <tr>\n",
       "      <th>214</th>\n",
       "      <td>Season 18, Episode 5</td>\n",
       "      <td>Arkansas Couple Search for a Second Home on th...</td>\n",
       "      <td>Dan and his fiance, Casey, love living in down...</td>\n",
       "      <td>www.hgtv.com/shows/house-hunters-international...</td>\n",
       "    </tr>\n",
       "    <tr>\n",
       "      <th>207</th>\n",
       "      <td>Season 17, Episode 11</td>\n",
       "      <td>Dad Looks For Kid-Safe Home in Costa Rica</td>\n",
       "      <td>Tim loves his bachelor life in San Diego, but ...</td>\n",
       "      <td>www.hgtv.com/shows/house-hunters-international...</td>\n",
       "    </tr>\n",
       "  </tbody>\n",
       "</table>\n",
       "</div>"
      ],
      "text/plain": [
       "                     Number  \\\n",
       "1710  Season 141, Episode 7   \n",
       "142   Season 12, Episode 11   \n",
       "1529  Season 127, Episode 6   \n",
       "331    Season 27, Episode 5   \n",
       "136    Season 12, Episode 5   \n",
       "6      Season 2, Episode 21   \n",
       "1719  Season 142, Episode 3   \n",
       "902   Season 74, Episode 04   \n",
       "214    Season 18, Episode 5   \n",
       "207   Season 17, Episode 11   \n",
       "\n",
       "                                                  Title  \\\n",
       "1710                          To Buy or Build in Brazil   \n",
       "142     Canadians Buy in Punta Cana, Dominican Republic   \n",
       "1529          Seeking Character and Views in Manchester   \n",
       "331                           Countdown to Gaeta, Italy   \n",
       "136                      Second Home in Calabria, Italy   \n",
       "6     Hotel Owners Search for a New Home on Harbour ...   \n",
       "1719                   Chasing a Better Life in Glasgow   \n",
       "902                           Pier Pressure in Freeport   \n",
       "214   Arkansas Couple Search for a Second Home on th...   \n",
       "207           Dad Looks For Kid-Safe Home in Costa Rica   \n",
       "\n",
       "                                            Description  \\\n",
       "1710  A corporate attorney from Connecticut is looki...   \n",
       "142   Perry and Cheryl Meriot are Edmonton Alberta n...   \n",
       "1529  A Canadian couple living in Qatar is moving to...   \n",
       "331   Joshua, Kimberly, and Meridian Matheson are mo...   \n",
       "136   Salinas, California high school math teacher, ...   \n",
       "6     We asked and you voted! Now see which of your ...   \n",
       "1719  A couple faces financial risks and other compl...   \n",
       "902   Sean and Danielle first met during spring brea...   \n",
       "214   Dan and his fiance, Casey, love living in down...   \n",
       "207   Tim loves his bachelor life in San Diego, but ...   \n",
       "\n",
       "                                                   Link  \n",
       "1710  www.hgtv.com/shows/house-hunters-international...  \n",
       "142   www.hgtv.com/shows/house-hunters-international...  \n",
       "1529  www.hgtv.com/shows/house-hunters-international...  \n",
       "331   www.hgtv.com/shows/house-hunters-international...  \n",
       "136   www.hgtv.com/shows/house-hunters-international...  \n",
       "6     www.hgtv.com/shows/house-hunters-international...  \n",
       "1719  www.hgtv.com/shows/house-hunters-international...  \n",
       "902   www.hgtv.com/shows/house-hunters-international...  \n",
       "214   www.hgtv.com/shows/house-hunters-international...  \n",
       "207   www.hgtv.com/shows/house-hunters-international...  "
      ]
     },
     "execution_count": 10,
     "metadata": {},
     "output_type": "execute_result"
    }
   ],
   "source": [
    "episodes_df = pd.DataFrame(episode_dict)\n",
    "episodes_df.sample(10)"
   ]
  },
  {
   "cell_type": "code",
   "execution_count": 11,
   "metadata": {},
   "outputs": [],
   "source": [
    "episodes_df.to_csv('House_Hunters_International_Episodes.csv')"
   ]
  },
  {
   "cell_type": "code",
   "execution_count": null,
   "metadata": {},
   "outputs": [],
   "source": []
  }
 ],
 "metadata": {
  "kernelspec": {
   "display_name": "Python 3",
   "language": "python",
   "name": "python3"
  },
  "language_info": {
   "codemirror_mode": {
    "name": "ipython",
    "version": 3
   },
   "file_extension": ".py",
   "mimetype": "text/x-python",
   "name": "python",
   "nbconvert_exporter": "python",
   "pygments_lexer": "ipython3",
   "version": "3.7.3"
  }
 },
 "nbformat": 4,
 "nbformat_minor": 2
}
