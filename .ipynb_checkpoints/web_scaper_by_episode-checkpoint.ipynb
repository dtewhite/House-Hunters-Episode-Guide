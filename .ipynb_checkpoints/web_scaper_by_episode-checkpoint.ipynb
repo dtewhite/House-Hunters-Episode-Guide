{
 "cells": [
  {
   "cell_type": "code",
   "execution_count": 1,
   "metadata": {},
   "outputs": [],
   "source": [
    "from bs4 import BeautifulSoup as bs\n",
    "from splinter import Browser\n",
    "from webdriver_manager.chrome import ChromeDriverManager\n",
    "from function import combine_data\n",
    "import pandas as pd\n",
    "import time\n",
    "import pprint"
   ]
  },
  {
   "cell_type": "code",
   "execution_count": 2,
   "metadata": {
    "scrolled": false
   },
   "outputs": [
    {
     "name": "stderr",
     "output_type": "stream",
     "text": [
      "[WDM] - Current google-chrome version is 88.0.4324\n",
      "[WDM] - Get LATEST driver version for 88.0.4324\n",
      "[WDM] - Driver [C:\\Users\\Dan\\.wdm\\drivers\\chromedriver\\win32\\88.0.4324.96\\chromedriver.exe] found in cache\n"
     ]
    },
    {
     "name": "stdout",
     "output_type": "stream",
     "text": [
      " \n"
     ]
    }
   ],
   "source": [
    "executable_path = {'executable_path': ChromeDriverManager().install()}\n",
    "browser = Browser('chrome', **executable_path, headless=False)"
   ]
  },
  {
   "cell_type": "code",
   "execution_count": 3,
   "metadata": {
    "scrolled": true
   },
   "outputs": [],
   "source": [
    "url = 'https://www.hgtv.com/shows/house-hunters-international/episodes/revisiting-big-renovations-in-the-south-of-france'\n",
    "browser.visit(url)"
   ]
  },
  {
   "cell_type": "code",
   "execution_count": 4,
   "metadata": {},
   "outputs": [],
   "source": [
    "not_done = True\n",
    "number_list = [] \n",
    "url_list = []\n",
    "title_list = []\n",
    "description_list = []"
   ]
  },
  {
   "cell_type": "code",
   "execution_count": 5,
   "metadata": {
    "scrolled": true
   },
   "outputs": [],
   "source": [
    "for i in range(10):\n",
    "    try:\n",
    "        html = browser.html\n",
    "        soup = bs(html, 'html.parser')\n",
    "        \n",
    "        current_url = soup.find_all('link', rel='canonical')[0]['href']\n",
    "        number = soup.find_all('div', class_='o-EpisodeLead__a-AssetInfo')[0].text.strip()\n",
    "        title = soup.find_all('span', class_='o-EpisodeLead__a-HeadlineText')[0].text.strip()\n",
    "        description = soup.find_all('div', class_='o-EpisodeLead__a-Description')[0].text.strip()\n",
    "\n",
    "        number_list.append(number)\n",
    "        url_list.append(current_url)\n",
    "        title_list.append(title)\n",
    "        description_list.append(description)\n",
    "        \n",
    "    except:\n",
    "        print(f'There was a problem here while scaping on page {current_url}')\n",
    "    \n",
    "    time.sleep(1) \n",
    "    \n",
    "    try:\n",
    "        browser.find_by_text('Next Episode').click()\n",
    "    except:\n",
    "        not_done = False\n",
    "        print(\"Scraping done!\")"
   ]
  },
  {
   "cell_type": "code",
   "execution_count": 6,
   "metadata": {},
   "outputs": [],
   "source": [
    "browser.quit()"
   ]
  },
  {
   "cell_type": "code",
   "execution_count": null,
   "metadata": {},
   "outputs": [],
   "source": [
    "number_list"
   ]
  },
  {
   "cell_type": "code",
   "execution_count": 7,
   "metadata": {},
   "outputs": [],
   "source": [
    "episode_dict = {}\n",
    "episode_dict['Number'] = number_list\n",
    "episode_dict['Title'] = title_list\n",
    "episode_dict['Description'] = description_list\n",
    "episode_dict['Link'] = url_list"
   ]
  },
  {
   "cell_type": "code",
   "execution_count": 8,
   "metadata": {},
   "outputs": [
    {
     "data": {
      "text/html": [
       "<div>\n",
       "<style scoped>\n",
       "    .dataframe tbody tr th:only-of-type {\n",
       "        vertical-align: middle;\n",
       "    }\n",
       "\n",
       "    .dataframe tbody tr th {\n",
       "        vertical-align: top;\n",
       "    }\n",
       "\n",
       "    .dataframe thead th {\n",
       "        text-align: right;\n",
       "    }\n",
       "</style>\n",
       "<table border=\"1\" class=\"dataframe\">\n",
       "  <thead>\n",
       "    <tr style=\"text-align: right;\">\n",
       "      <th></th>\n",
       "      <th>Number</th>\n",
       "      <th>Title</th>\n",
       "      <th>Description</th>\n",
       "      <th>Link</th>\n",
       "    </tr>\n",
       "  </thead>\n",
       "  <tbody>\n",
       "    <tr>\n",
       "      <th>0</th>\n",
       "      <td>Season 1, Episode 1</td>\n",
       "      <td>Revisiting Big Renovations in the South of France</td>\n",
       "      <td>House Hunters International is revisiting the ...</td>\n",
       "      <td>https://www.hgtv.com/shows/house-hunters-inter...</td>\n",
       "    </tr>\n",
       "    <tr>\n",
       "      <th>1</th>\n",
       "      <td>Season 1, Episode 2</td>\n",
       "      <td>Revisiting Remote Renovations in Australia, Ne...</td>\n",
       "      <td>House Hunters International checks back in wit...</td>\n",
       "      <td>https://www.hgtv.com/shows/house-hunters-inter...</td>\n",
       "    </tr>\n",
       "    <tr>\n",
       "      <th>2</th>\n",
       "      <td>Season 1, Episode 3</td>\n",
       "      <td>Revisiting Historic Renovations in Italy and F...</td>\n",
       "      <td>House Hunters International wondered what happ...</td>\n",
       "      <td>https://www.hgtv.com/shows/house-hunters-inter...</td>\n",
       "    </tr>\n",
       "    <tr>\n",
       "      <th>3</th>\n",
       "      <td>Season 1, Episode 3</td>\n",
       "      <td>Revisiting Historic Renovations in Italy and F...</td>\n",
       "      <td>House Hunters International wondered what happ...</td>\n",
       "      <td>https://www.hgtv.com/shows/house-hunters-inter...</td>\n",
       "    </tr>\n",
       "    <tr>\n",
       "      <th>4</th>\n",
       "      <td>Season 1, Episode 5</td>\n",
       "      <td>Revisiting Latin Renovations in Belize, Panama...</td>\n",
       "      <td>House Hunters International retraces the steps...</td>\n",
       "      <td>https://www.hgtv.com/shows/house-hunters-inter...</td>\n",
       "    </tr>\n",
       "    <tr>\n",
       "      <th>5</th>\n",
       "      <td>Season 1, Episode 1</td>\n",
       "      <td>Costa Rica Vacation Home</td>\n",
       "      <td>Mark and Carolle Cotter love living in Northri...</td>\n",
       "      <td>https://www.hgtv.com/shows/house-hunters-inter...</td>\n",
       "    </tr>\n",
       "    <tr>\n",
       "      <th>6</th>\n",
       "      <td>Season 1, Episode 2</td>\n",
       "      <td>Dominican Vacation Home</td>\n",
       "      <td>Throughout their fifteen years of marriage, St...</td>\n",
       "      <td>https://www.hgtv.com/shows/house-hunters-inter...</td>\n",
       "    </tr>\n",
       "    <tr>\n",
       "      <th>7</th>\n",
       "      <td>Season 1, Episode 3</td>\n",
       "      <td>Vacation Home in Spain</td>\n",
       "      <td>Lesley and Clive have been together for more t...</td>\n",
       "      <td>https://www.hgtv.com/shows/house-hunters-inter...</td>\n",
       "    </tr>\n",
       "    <tr>\n",
       "      <th>8</th>\n",
       "      <td>Season 1, Episode 4</td>\n",
       "      <td>Vacation Home in Italy</td>\n",
       "      <td>Peter and Beverly Moule live in Goff's Oak, ju...</td>\n",
       "      <td>https://www.hgtv.com/shows/house-hunters-inter...</td>\n",
       "    </tr>\n",
       "    <tr>\n",
       "      <th>9</th>\n",
       "      <td>Season 1, Episode 5</td>\n",
       "      <td>Vacation Home in Paris</td>\n",
       "      <td>New Yorkers Jeff Ballinger and Mary Schiller r...</td>\n",
       "      <td>https://www.hgtv.com/shows/house-hunters-inter...</td>\n",
       "    </tr>\n",
       "  </tbody>\n",
       "</table>\n",
       "</div>"
      ],
      "text/plain": [
       "                Number                                              Title  \\\n",
       "0  Season 1, Episode 1  Revisiting Big Renovations in the South of France   \n",
       "1  Season 1, Episode 2  Revisiting Remote Renovations in Australia, Ne...   \n",
       "2  Season 1, Episode 3  Revisiting Historic Renovations in Italy and F...   \n",
       "3  Season 1, Episode 3  Revisiting Historic Renovations in Italy and F...   \n",
       "4  Season 1, Episode 5  Revisiting Latin Renovations in Belize, Panama...   \n",
       "5  Season 1, Episode 1                           Costa Rica Vacation Home   \n",
       "6  Season 1, Episode 2                            Dominican Vacation Home   \n",
       "7  Season 1, Episode 3                             Vacation Home in Spain   \n",
       "8  Season 1, Episode 4                             Vacation Home in Italy   \n",
       "9  Season 1, Episode 5                             Vacation Home in Paris   \n",
       "\n",
       "                                         Description  \\\n",
       "0  House Hunters International is revisiting the ...   \n",
       "1  House Hunters International checks back in wit...   \n",
       "2  House Hunters International wondered what happ...   \n",
       "3  House Hunters International wondered what happ...   \n",
       "4  House Hunters International retraces the steps...   \n",
       "5  Mark and Carolle Cotter love living in Northri...   \n",
       "6  Throughout their fifteen years of marriage, St...   \n",
       "7  Lesley and Clive have been together for more t...   \n",
       "8  Peter and Beverly Moule live in Goff's Oak, ju...   \n",
       "9  New Yorkers Jeff Ballinger and Mary Schiller r...   \n",
       "\n",
       "                                                Link  \n",
       "0  https://www.hgtv.com/shows/house-hunters-inter...  \n",
       "1  https://www.hgtv.com/shows/house-hunters-inter...  \n",
       "2  https://www.hgtv.com/shows/house-hunters-inter...  \n",
       "3  https://www.hgtv.com/shows/house-hunters-inter...  \n",
       "4  https://www.hgtv.com/shows/house-hunters-inter...  \n",
       "5  https://www.hgtv.com/shows/house-hunters-inter...  \n",
       "6  https://www.hgtv.com/shows/house-hunters-inter...  \n",
       "7  https://www.hgtv.com/shows/house-hunters-inter...  \n",
       "8  https://www.hgtv.com/shows/house-hunters-inter...  \n",
       "9  https://www.hgtv.com/shows/house-hunters-inter...  "
      ]
     },
     "execution_count": 8,
     "metadata": {},
     "output_type": "execute_result"
    }
   ],
   "source": [
    "episodes_df = pd.DataFrame(episode_dict)\n",
    "episodes_df.tail(50)"
   ]
  },
  {
   "cell_type": "code",
   "execution_count": null,
   "metadata": {},
   "outputs": [],
   "source": [
    "episodes_df.to_csv('Resources/House_Hunters_International.csv')"
   ]
  },
  {
   "cell_type": "code",
   "execution_count": null,
   "metadata": {},
   "outputs": [],
   "source": []
  }
 ],
 "metadata": {
  "kernelspec": {
   "display_name": "Python 3",
   "language": "python",
   "name": "python3"
  },
  "language_info": {
   "codemirror_mode": {
    "name": "ipython",
    "version": 3
   },
   "file_extension": ".py",
   "mimetype": "text/x-python",
   "name": "python",
   "nbconvert_exporter": "python",
   "pygments_lexer": "ipython3",
   "version": "3.7.3"
  }
 },
 "nbformat": 4,
 "nbformat_minor": 2
}
