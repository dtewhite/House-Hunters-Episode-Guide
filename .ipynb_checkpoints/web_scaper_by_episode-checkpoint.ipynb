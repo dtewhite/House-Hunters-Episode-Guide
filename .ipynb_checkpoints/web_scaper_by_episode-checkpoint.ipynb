{
 "cells": [
  {
   "cell_type": "code",
   "execution_count": null,
   "metadata": {},
   "outputs": [],
   "source": [
    "from bs4 import BeautifulSoup as bs\n",
    "from splinter import Browser\n",
    "from webdriver_manager.chrome import ChromeDriverManager\n",
    "from function import combine_data\n",
    "import pandas as pd\n",
    "import time\n",
    "import pprint\n",
    "from random import randint"
   ]
  },
  {
   "cell_type": "code",
   "execution_count": null,
   "metadata": {
    "scrolled": false
   },
   "outputs": [],
   "source": [
    "executable_path = {'executable_path': ChromeDriverManager().install()}\n",
    "browser = Browser('chrome', **executable_path, headless=False)"
   ]
  },
  {
   "cell_type": "code",
   "execution_count": null,
   "metadata": {
    "scrolled": true
   },
   "outputs": [],
   "source": [
    "url = 'https://www.hgtv.com/shows/house-hunters-international/episodes/same-town-smaller-home'\n",
    "browser.visit(url)"
   ]
  },
  {
   "cell_type": "code",
   "execution_count": null,
   "metadata": {},
   "outputs": [],
   "source": [
    "not_done = True\n",
    "number_list = [] \n",
    "url_list = []\n",
    "title_list = []\n",
    "description_list = []"
   ]
  },
  {
   "cell_type": "code",
   "execution_count": null,
   "metadata": {},
   "outputs": [],
   "source": [
    "while not_done:\n",
    "    time.sleep(randint(1,5))\n",
    "    try:\n",
    "        html = browser.html\n",
    "        soup = bs(html, 'html.parser')\n",
    "\n",
    "        current_url = soup.find_all('link', rel='canonical')[0]['href']\n",
    "        number = soup.find_all('div', class_='o-EpisodeLead__a-AssetInfo')[0].text.strip()\n",
    "        title = soup.find_all('span', class_='o-EpisodeLead__a-HeadlineText')[0].text.strip()\n",
    "        description = soup.find_all('div', class_='o-EpisodeLead__a-Description')[0].text.strip()\n",
    "\n",
    "        number_list.append(number)\n",
    "        url_list.append(current_url)\n",
    "        title_list.append(title)\n",
    "        description_list.append(description)\n",
    "\n",
    "    except:\n",
    "        print(f'There was a problem here while scaping on page {current_url}') \n",
    "\n",
    "    time.sleep(randint(1,5))\n",
    "    try:\n",
    "        browser.find_by_text('Next Episode').click()\n",
    "    except:\n",
    "        not_done = False\n",
    "        print(\"Scraping done!\")"
   ]
  },
  {
   "cell_type": "code",
   "execution_count": null,
   "metadata": {},
   "outputs": [],
   "source": [
    "browser.quit()"
   ]
  },
  {
   "cell_type": "code",
   "execution_count": null,
   "metadata": {},
   "outputs": [],
   "source": [
    "episode_dict = {}\n",
    "episode_dict['Number'] = number_list\n",
    "episode_dict['Title'] = title_list\n",
    "episode_dict['Description'] = description_list\n",
    "episode_dict['Link'] = url_list"
   ]
  },
  {
   "cell_type": "code",
   "execution_count": null,
   "metadata": {},
   "outputs": [],
   "source": [
    "episodes_df = pd.DataFrame(episode_dict)\n",
    "episodes_df.tail(50)"
   ]
  },
  {
   "cell_type": "code",
   "execution_count": null,
   "metadata": {},
   "outputs": [],
   "source": [
    "episodes_df.to_csv('Resources/House_Hunters_International_Episode_Scrape_2.csv')"
   ]
  }
 ],
 "metadata": {
  "kernelspec": {
   "display_name": "Python 3",
   "language": "python",
   "name": "python3"
  },
  "language_info": {
   "codemirror_mode": {
    "name": "ipython",
    "version": 3
   },
   "file_extension": ".py",
   "mimetype": "text/x-python",
   "name": "python",
   "nbconvert_exporter": "python",
   "pygments_lexer": "ipython3",
   "version": "3.7.3"
  }
 },
 "nbformat": 4,
 "nbformat_minor": 2
}
