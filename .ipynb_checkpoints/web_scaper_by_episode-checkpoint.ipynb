{
 "cells": [
  {
   "cell_type": "code",
   "execution_count": 1,
   "metadata": {},
   "outputs": [],
   "source": [
    "from bs4 import BeautifulSoup as bs\n",
    "from splinter import Browser\n",
    "from webdriver_manager.chrome import ChromeDriverManager\n",
    "from function import combine_data\n",
    "import pandas as pd\n",
    "import time\n",
    "import pprint\n",
    "from random import randint"
   ]
  },
  {
   "cell_type": "code",
   "execution_count": 2,
   "metadata": {
    "scrolled": false
   },
   "outputs": [
    {
     "name": "stderr",
     "output_type": "stream",
     "text": [
      "[WDM] - Current google-chrome version is 88.0.4324\n",
      "[WDM] - Get LATEST driver version for 88.0.4324\n",
      "[WDM] - Get LATEST driver version for 88.0.4324\n",
      "[WDM] - Trying to download new driver from http://chromedriver.storage.googleapis.com/88.0.4324.96/chromedriver_win32.zip\n"
     ]
    },
    {
     "name": "stdout",
     "output_type": "stream",
     "text": [
      " \n"
     ]
    },
    {
     "name": "stderr",
     "output_type": "stream",
     "text": [
      "[WDM] - Driver has been saved in cache [C:\\Users\\Dan\\.wdm\\drivers\\chromedriver\\win32\\88.0.4324.96]\n"
     ]
    }
   ],
   "source": [
    "executable_path = {'executable_path': ChromeDriverManager().install()}\n",
    "browser = Browser('chrome', **executable_path, headless=False)"
   ]
  },
  {
   "cell_type": "code",
   "execution_count": 3,
   "metadata": {
    "scrolled": true
   },
   "outputs": [],
   "source": [
    "url = 'https://www.hgtv.com/shows/house-hunters-international/episodes/wiesbaden-take-two'\n",
    "browser.visit(url)"
   ]
  },
  {
   "cell_type": "code",
   "execution_count": 4,
   "metadata": {},
   "outputs": [],
   "source": [
    "not_done = True\n",
    "number_list = [] \n",
    "url_list = []\n",
    "title_list = []\n",
    "description_list = []"
   ]
  },
  {
   "cell_type": "code",
   "execution_count": 5,
   "metadata": {},
   "outputs": [
    {
     "name": "stdout",
     "output_type": "stream",
     "text": [
      "There was an issue, restart the scraper from https://www.hgtv.com/shows/house-hunters-international/episodes/cupids-arrow-strikes-in-bangkok-thailand\n"
     ]
    }
   ],
   "source": [
    "while not_done:\n",
    "    time.sleep(randint(1,5))\n",
    "    try:\n",
    "        html = browser.html\n",
    "        soup = bs(html, 'html.parser')\n",
    "\n",
    "        current_url = soup.find_all('link', rel='canonical')[0]['href']\n",
    "        number = soup.find_all('div', class_='o-EpisodeLead__a-AssetInfo')[0].text.strip()\n",
    "        title = soup.find_all('span', class_='o-EpisodeLead__a-HeadlineText')[0].text.strip()\n",
    "        description = soup.find_all('div', class_='o-EpisodeLead__a-Description')[0].text.strip()\n",
    "\n",
    "        number_list.append(number)\n",
    "        url_list.append(current_url)\n",
    "        title_list.append(title)\n",
    "        description_list.append(description)\n",
    "\n",
    "    except:\n",
    "        print(f'There was a problem here while scaping on page {current_url}') \n",
    "\n",
    "    time.sleep(randint(5,10))\n",
    "    try:\n",
    "        browser.find_by_text('Next Episode').click()\n",
    "    except:\n",
    "        browser.quit()\n",
    "        print(f'There was an issue, restart the scraper from {current_url}')\n",
    "        episode_dict = {}\n",
    "        episode_dict['Number'] = number_list\n",
    "        episode_dict['Title'] = title_list\n",
    "        episode_dict['Description'] = description_list\n",
    "        episode_dict['Link'] = url_list\n",
    "        episodes_df = pd.DataFrame(episode_dict)\n",
    "        not_done = False"
   ]
  },
  {
   "cell_type": "code",
   "execution_count": 6,
   "metadata": {},
   "outputs": [
    {
     "data": {
      "text/html": [
       "<div>\n",
       "<style scoped>\n",
       "    .dataframe tbody tr th:only-of-type {\n",
       "        vertical-align: middle;\n",
       "    }\n",
       "\n",
       "    .dataframe tbody tr th {\n",
       "        vertical-align: top;\n",
       "    }\n",
       "\n",
       "    .dataframe thead th {\n",
       "        text-align: right;\n",
       "    }\n",
       "</style>\n",
       "<table border=\"1\" class=\"dataframe\">\n",
       "  <thead>\n",
       "    <tr style=\"text-align: right;\">\n",
       "      <th></th>\n",
       "      <th>Number</th>\n",
       "      <th>Title</th>\n",
       "      <th>Description</th>\n",
       "      <th>Link</th>\n",
       "    </tr>\n",
       "  </thead>\n",
       "  <tbody>\n",
       "    <tr>\n",
       "      <th>0</th>\n",
       "      <td>Season 161, Episode 8</td>\n",
       "      <td>Wiesbaden, Take Two</td>\n",
       "      <td>Two former soldiers and their son return to Wi...</td>\n",
       "      <td>https://www.hgtv.com/shows/house-hunters-inter...</td>\n",
       "    </tr>\n",
       "    <tr>\n",
       "      <th>1</th>\n",
       "      <td>Season 161, Episode 9</td>\n",
       "      <td>Brussels Without a Net</td>\n",
       "      <td>A job transfer makes Brussels, Belgium, the ei...</td>\n",
       "      <td>https://www.hgtv.com/shows/house-hunters-inter...</td>\n",
       "    </tr>\n",
       "    <tr>\n",
       "      <th>2</th>\n",
       "      <td>Season 161, Episode 10</td>\n",
       "      <td>Brink of a Wedding in Bangkok</td>\n",
       "      <td>After years in a long-distance relationship, a...</td>\n",
       "      <td>https://www.hgtv.com/shows/house-hunters-inter...</td>\n",
       "    </tr>\n",
       "    <tr>\n",
       "      <th>3</th>\n",
       "      <td>Season 161, Episode 11</td>\n",
       "      <td>Full Immersion in South Korea</td>\n",
       "      <td>After two years in Japan, a US airman gets a n...</td>\n",
       "      <td>https://www.hgtv.com/shows/house-hunters-inter...</td>\n",
       "    </tr>\n",
       "    <tr>\n",
       "      <th>4</th>\n",
       "      <td>Season 162, Episode 3</td>\n",
       "      <td>Lake or No Lake in Geneva</td>\n",
       "      <td>After accepting a job promotion, a wife and mo...</td>\n",
       "      <td>https://www.hgtv.com/shows/house-hunters-inter...</td>\n",
       "    </tr>\n",
       "    <tr>\n",
       "      <th>5</th>\n",
       "      <td>Season 162, Episode 4</td>\n",
       "      <td>A Singer and a Psychic Walk Into a Bar</td>\n",
       "      <td>A musician who's been living the Los Angeles h...</td>\n",
       "      <td>https://www.hgtv.com/shows/house-hunters-inter...</td>\n",
       "    </tr>\n",
       "    <tr>\n",
       "      <th>6</th>\n",
       "      <td>Season 162, Episode 9</td>\n",
       "      <td>Happily Ever After in Leuven</td>\n",
       "      <td>An American gives up living in Paris for her f...</td>\n",
       "      <td>https://www.hgtv.com/shows/house-hunters-inter...</td>\n",
       "    </tr>\n",
       "    <tr>\n",
       "      <th>7</th>\n",
       "      <td>Season 163, Episode 2</td>\n",
       "      <td>Quintessential vs. Convenient in Cambridge</td>\n",
       "      <td>A young family is leaving the suburbs of Tampa...</td>\n",
       "      <td>https://www.hgtv.com/shows/house-hunters-inter...</td>\n",
       "    </tr>\n",
       "    <tr>\n",
       "      <th>8</th>\n",
       "      <td>Season 164, Episode 3</td>\n",
       "      <td>Beat Drops and Flip Flops in Koh Chang, Thailand</td>\n",
       "      <td>An up-and-coming rapper tired of life in Canad...</td>\n",
       "      <td>https://www.hgtv.com/shows/house-hunters-inter...</td>\n",
       "    </tr>\n",
       "    <tr>\n",
       "      <th>9</th>\n",
       "      <td>Season 165, Episode 5</td>\n",
       "      <td>Trading Dreams in Dublin, Ireland</td>\n",
       "      <td>A couple trades her dream life in Chicago for ...</td>\n",
       "      <td>https://www.hgtv.com/shows/house-hunters-inter...</td>\n",
       "    </tr>\n",
       "    <tr>\n",
       "      <th>10</th>\n",
       "      <td>Season 166, Episode 1</td>\n",
       "      <td>Staying Calm in Cologne</td>\n",
       "      <td>A newlywed couple follows a job opportunity ba...</td>\n",
       "      <td>https://www.hgtv.com/shows/house-hunters-inter...</td>\n",
       "    </tr>\n",
       "    <tr>\n",
       "      <th>11</th>\n",
       "      <td>Season 167, Episode 1</td>\n",
       "      <td>Cupid's Arrow Strikes in Bangkok, Thailand</td>\n",
       "      <td>A Denver man met his new girlfriend on a world...</td>\n",
       "      <td>https://www.hgtv.com/shows/house-hunters-inter...</td>\n",
       "    </tr>\n",
       "  </tbody>\n",
       "</table>\n",
       "</div>"
      ],
      "text/plain": [
       "                    Number                                             Title  \\\n",
       "0    Season 161, Episode 8                               Wiesbaden, Take Two   \n",
       "1    Season 161, Episode 9                            Brussels Without a Net   \n",
       "2   Season 161, Episode 10                     Brink of a Wedding in Bangkok   \n",
       "3   Season 161, Episode 11                     Full Immersion in South Korea   \n",
       "4    Season 162, Episode 3                         Lake or No Lake in Geneva   \n",
       "5    Season 162, Episode 4            A Singer and a Psychic Walk Into a Bar   \n",
       "6    Season 162, Episode 9                      Happily Ever After in Leuven   \n",
       "7    Season 163, Episode 2        Quintessential vs. Convenient in Cambridge   \n",
       "8    Season 164, Episode 3  Beat Drops and Flip Flops in Koh Chang, Thailand   \n",
       "9    Season 165, Episode 5                 Trading Dreams in Dublin, Ireland   \n",
       "10   Season 166, Episode 1                           Staying Calm in Cologne   \n",
       "11   Season 167, Episode 1        Cupid's Arrow Strikes in Bangkok, Thailand   \n",
       "\n",
       "                                          Description  \\\n",
       "0   Two former soldiers and their son return to Wi...   \n",
       "1   A job transfer makes Brussels, Belgium, the ei...   \n",
       "2   After years in a long-distance relationship, a...   \n",
       "3   After two years in Japan, a US airman gets a n...   \n",
       "4   After accepting a job promotion, a wife and mo...   \n",
       "5   A musician who's been living the Los Angeles h...   \n",
       "6   An American gives up living in Paris for her f...   \n",
       "7   A young family is leaving the suburbs of Tampa...   \n",
       "8   An up-and-coming rapper tired of life in Canad...   \n",
       "9   A couple trades her dream life in Chicago for ...   \n",
       "10  A newlywed couple follows a job opportunity ba...   \n",
       "11  A Denver man met his new girlfriend on a world...   \n",
       "\n",
       "                                                 Link  \n",
       "0   https://www.hgtv.com/shows/house-hunters-inter...  \n",
       "1   https://www.hgtv.com/shows/house-hunters-inter...  \n",
       "2   https://www.hgtv.com/shows/house-hunters-inter...  \n",
       "3   https://www.hgtv.com/shows/house-hunters-inter...  \n",
       "4   https://www.hgtv.com/shows/house-hunters-inter...  \n",
       "5   https://www.hgtv.com/shows/house-hunters-inter...  \n",
       "6   https://www.hgtv.com/shows/house-hunters-inter...  \n",
       "7   https://www.hgtv.com/shows/house-hunters-inter...  \n",
       "8   https://www.hgtv.com/shows/house-hunters-inter...  \n",
       "9   https://www.hgtv.com/shows/house-hunters-inter...  \n",
       "10  https://www.hgtv.com/shows/house-hunters-inter...  \n",
       "11  https://www.hgtv.com/shows/house-hunters-inter...  "
      ]
     },
     "execution_count": 6,
     "metadata": {},
     "output_type": "execute_result"
    }
   ],
   "source": [
    "episodes_df.tail(50)"
   ]
  },
  {
   "cell_type": "code",
   "execution_count": 7,
   "metadata": {},
   "outputs": [],
   "source": [
    "episodes_df.to_csv('Resources/House_Hunters_International_Episode_Scrape_66.csv')"
   ]
  },
  {
   "cell_type": "code",
   "execution_count": 8,
   "metadata": {},
   "outputs": [
    {
     "data": {
      "text/plain": [
       "'https://www.hgtv.com/shows/house-hunters-international/episodes/cupids-arrow-strikes-in-bangkok-thailand'"
      ]
     },
     "execution_count": 8,
     "metadata": {},
     "output_type": "execute_result"
    }
   ],
   "source": [
    "episodes_df.iloc[-1,-1]"
   ]
  },
  {
   "cell_type": "code",
   "execution_count": null,
   "metadata": {},
   "outputs": [],
   "source": []
  }
 ],
 "metadata": {
  "kernelspec": {
   "display_name": "Python 3",
   "language": "python",
   "name": "python3"
  },
  "language_info": {
   "codemirror_mode": {
    "name": "ipython",
    "version": 3
   },
   "file_extension": ".py",
   "mimetype": "text/x-python",
   "name": "python",
   "nbconvert_exporter": "python",
   "pygments_lexer": "ipython3",
   "version": "3.7.3"
  }
 },
 "nbformat": 4,
 "nbformat_minor": 2
}
