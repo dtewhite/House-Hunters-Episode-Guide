{
 "cells": [
  {
   "cell_type": "code",
   "execution_count": 28,
   "metadata": {},
   "outputs": [],
   "source": [
    "import pandas as pd"
   ]
  },
  {
   "cell_type": "code",
   "execution_count": 29,
   "metadata": {},
   "outputs": [
    {
     "data": {
      "text/html": [
       "<div>\n",
       "<style scoped>\n",
       "    .dataframe tbody tr th:only-of-type {\n",
       "        vertical-align: middle;\n",
       "    }\n",
       "\n",
       "    .dataframe tbody tr th {\n",
       "        vertical-align: top;\n",
       "    }\n",
       "\n",
       "    .dataframe thead th {\n",
       "        text-align: right;\n",
       "    }\n",
       "</style>\n",
       "<table border=\"1\" class=\"dataframe\">\n",
       "  <thead>\n",
       "    <tr style=\"text-align: right;\">\n",
       "      <th></th>\n",
       "      <th>Number</th>\n",
       "      <th>Title</th>\n",
       "      <th>Description</th>\n",
       "      <th>Link</th>\n",
       "    </tr>\n",
       "  </thead>\n",
       "  <tbody>\n",
       "    <tr>\n",
       "      <th>0</th>\n",
       "      <td>Specials, Episode 1</td>\n",
       "      <td>Revisiting Big Renovations in the South of France</td>\n",
       "      <td>House Hunters International is revisiting the ...</td>\n",
       "      <td>www.hgtv.com/shows/house-hunters-international...</td>\n",
       "    </tr>\n",
       "    <tr>\n",
       "      <th>1</th>\n",
       "      <td>Specials, Episode 2</td>\n",
       "      <td>Revisiting Remote Renovations in Australia, Ne...</td>\n",
       "      <td>House Hunters International checks back in wit...</td>\n",
       "      <td>www.hgtv.com/shows/house-hunters-international...</td>\n",
       "    </tr>\n",
       "    <tr>\n",
       "      <th>2</th>\n",
       "      <td>Specials, Episode 3</td>\n",
       "      <td>Revisiting Historic Renovations in Italy and F...</td>\n",
       "      <td>House Hunters International wondered what happ...</td>\n",
       "      <td>www.hgtv.com/shows/house-hunters-international...</td>\n",
       "    </tr>\n",
       "    <tr>\n",
       "      <th>3</th>\n",
       "      <td>Specials, Episode 4</td>\n",
       "      <td>Revisiting Euro Renovations in Berlin, Copenha...</td>\n",
       "      <td>House Hunters International travels across Eur...</td>\n",
       "      <td>www.hgtv.com/shows/house-hunters-international...</td>\n",
       "    </tr>\n",
       "    <tr>\n",
       "      <th>4</th>\n",
       "      <td>Specials, Episode 5</td>\n",
       "      <td>Revisiting Latin Renovations in Belize, Panama...</td>\n",
       "      <td>House Hunters International retraces the steps...</td>\n",
       "      <td>www.hgtv.com/shows/house-hunters-international...</td>\n",
       "    </tr>\n",
       "    <tr>\n",
       "      <th>...</th>\n",
       "      <td>...</td>\n",
       "      <td>...</td>\n",
       "      <td>...</td>\n",
       "      <td>...</td>\n",
       "    </tr>\n",
       "    <tr>\n",
       "      <th>1954</th>\n",
       "      <td>Season 163, Episode 2</td>\n",
       "      <td>Quintessential vs. Convenient in Cambridge</td>\n",
       "      <td>A young family is leaving the suburbs of Tampa...</td>\n",
       "      <td>www.hgtv.com/shows/house-hunters-international...</td>\n",
       "    </tr>\n",
       "    <tr>\n",
       "      <th>1955</th>\n",
       "      <td>Season 164, Episode 3</td>\n",
       "      <td>Beat Drops and Flip Flops in Koh Chang, Thailand</td>\n",
       "      <td>An up-and-coming rapper tired of life in Canad...</td>\n",
       "      <td>www.hgtv.com/shows/house-hunters-international...</td>\n",
       "    </tr>\n",
       "    <tr>\n",
       "      <th>1956</th>\n",
       "      <td>Season 165, Episode 5</td>\n",
       "      <td>Trading Dreams in Dublin, Ireland</td>\n",
       "      <td>A couple trades her dream life in Chicago for ...</td>\n",
       "      <td>www.hgtv.com/shows/house-hunters-international...</td>\n",
       "    </tr>\n",
       "    <tr>\n",
       "      <th>1957</th>\n",
       "      <td>Season 166, Episode 1</td>\n",
       "      <td>Staying Calm in Cologne</td>\n",
       "      <td>A newlywed couple follows a job opportunity ba...</td>\n",
       "      <td>www.hgtv.com/shows/house-hunters-international...</td>\n",
       "    </tr>\n",
       "    <tr>\n",
       "      <th>1958</th>\n",
       "      <td>Season 167, Episode 1</td>\n",
       "      <td>Cupid's Arrow Strikes in Bangkok, Thailand</td>\n",
       "      <td>A Denver man met his new girlfriend on a world...</td>\n",
       "      <td>www.hgtv.com/shows/house-hunters-international...</td>\n",
       "    </tr>\n",
       "  </tbody>\n",
       "</table>\n",
       "<p>1904 rows × 4 columns</p>\n",
       "</div>"
      ],
      "text/plain": [
       "                     Number  \\\n",
       "0       Specials, Episode 1   \n",
       "1       Specials, Episode 2   \n",
       "2       Specials, Episode 3   \n",
       "3       Specials, Episode 4   \n",
       "4       Specials, Episode 5   \n",
       "...                     ...   \n",
       "1954  Season 163, Episode 2   \n",
       "1955  Season 164, Episode 3   \n",
       "1956  Season 165, Episode 5   \n",
       "1957  Season 166, Episode 1   \n",
       "1958  Season 167, Episode 1   \n",
       "\n",
       "                                                  Title  \\\n",
       "0     Revisiting Big Renovations in the South of France   \n",
       "1     Revisiting Remote Renovations in Australia, Ne...   \n",
       "2     Revisiting Historic Renovations in Italy and F...   \n",
       "3     Revisiting Euro Renovations in Berlin, Copenha...   \n",
       "4     Revisiting Latin Renovations in Belize, Panama...   \n",
       "...                                                 ...   \n",
       "1954         Quintessential vs. Convenient in Cambridge   \n",
       "1955   Beat Drops and Flip Flops in Koh Chang, Thailand   \n",
       "1956                  Trading Dreams in Dublin, Ireland   \n",
       "1957                            Staying Calm in Cologne   \n",
       "1958         Cupid's Arrow Strikes in Bangkok, Thailand   \n",
       "\n",
       "                                            Description  \\\n",
       "0     House Hunters International is revisiting the ...   \n",
       "1     House Hunters International checks back in wit...   \n",
       "2     House Hunters International wondered what happ...   \n",
       "3     House Hunters International travels across Eur...   \n",
       "4     House Hunters International retraces the steps...   \n",
       "...                                                 ...   \n",
       "1954  A young family is leaving the suburbs of Tampa...   \n",
       "1955  An up-and-coming rapper tired of life in Canad...   \n",
       "1956  A couple trades her dream life in Chicago for ...   \n",
       "1957  A newlywed couple follows a job opportunity ba...   \n",
       "1958  A Denver man met his new girlfriend on a world...   \n",
       "\n",
       "                                                   Link  \n",
       "0     www.hgtv.com/shows/house-hunters-international...  \n",
       "1     www.hgtv.com/shows/house-hunters-international...  \n",
       "2     www.hgtv.com/shows/house-hunters-international...  \n",
       "3     www.hgtv.com/shows/house-hunters-international...  \n",
       "4     www.hgtv.com/shows/house-hunters-international...  \n",
       "...                                                 ...  \n",
       "1954  www.hgtv.com/shows/house-hunters-international...  \n",
       "1955  www.hgtv.com/shows/house-hunters-international...  \n",
       "1956  www.hgtv.com/shows/house-hunters-international...  \n",
       "1957  www.hgtv.com/shows/house-hunters-international...  \n",
       "1958  www.hgtv.com/shows/house-hunters-international...  \n",
       "\n",
       "[1904 rows x 4 columns]"
      ]
     },
     "execution_count": 29,
     "metadata": {},
     "output_type": "execute_result"
    }
   ],
   "source": [
    "ep_df = pd.read_csv('House_Hunters_International_Episodes.csv', index_col=0)\n",
    "ep_df.drop_duplicates(subset = ['Title'])"
   ]
  },
  {
   "cell_type": "code",
   "execution_count": 30,
   "metadata": {},
   "outputs": [],
   "source": [
    "ep_df[['Season','Episode']] = ep_df['Number'].str.split(', ', expand = True)"
   ]
  },
  {
   "cell_type": "code",
   "execution_count": 31,
   "metadata": {},
   "outputs": [],
   "source": [
    "ep_df['Season'] = ep_df['Season'].map(lambda x:x.replace('Season ', ''))"
   ]
  },
  {
   "cell_type": "code",
   "execution_count": 32,
   "metadata": {},
   "outputs": [],
   "source": [
    "ep_df['Episode'] = ep_df['Episode'].map(lambda x:x.replace('Episode ', '')).astype(int)"
   ]
  },
  {
   "cell_type": "code",
   "execution_count": 34,
   "metadata": {},
   "outputs": [],
   "source": [
    "ep_df.to_csv('House_Hunters_International_Episodes_Cleaned.csv')"
   ]
  },
  {
   "cell_type": "code",
   "execution_count": 70,
   "metadata": {},
   "outputs": [],
   "source": [
    "season_group_df = pd.DataFrame(ep_df.groupby('Season')['Episode'].count())\n",
    "season_group_df = season_group_df.reset_index()\n",
    "season_group_df = season_group_df[season_group_df['Season'] != 'Specials'].astype(int)"
   ]
  },
  {
   "cell_type": "code",
   "execution_count": 79,
   "metadata": {},
   "outputs": [],
   "source": [
    "season_group_df = season_group_df.sort_values(['Season']).reset_index(drop=True)"
   ]
  },
  {
   "cell_type": "code",
   "execution_count": 80,
   "metadata": {},
   "outputs": [],
   "source": [
    "season_group_df.to_csv('House_Hunters_International_Seasons_Grouped.csv')"
   ]
  },
  {
   "cell_type": "code",
   "execution_count": null,
   "metadata": {},
   "outputs": [],
   "source": []
  }
 ],
 "metadata": {
  "kernelspec": {
   "display_name": "Python 3",
   "language": "python",
   "name": "python3"
  },
  "language_info": {
   "codemirror_mode": {
    "name": "ipython",
    "version": 3
   },
   "file_extension": ".py",
   "mimetype": "text/x-python",
   "name": "python",
   "nbconvert_exporter": "python",
   "pygments_lexer": "ipython3",
   "version": "3.7.3"
  }
 },
 "nbformat": 4,
 "nbformat_minor": 2
}
