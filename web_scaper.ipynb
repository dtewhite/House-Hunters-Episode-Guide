{
 "cells": [
  {
   "cell_type": "code",
   "execution_count": 1,
   "metadata": {},
   "outputs": [],
   "source": [
    "from bs4 import BeautifulSoup as bs\n",
    "from splinter import Browser\n",
    "from webdriver_manager.chrome import ChromeDriverManager\n",
    "import time"
   ]
  },
  {
   "cell_type": "code",
   "execution_count": 2,
   "metadata": {
    "scrolled": false
   },
   "outputs": [
    {
     "name": "stderr",
     "output_type": "stream",
     "text": [
      "[WDM] - Current google-chrome version is 87.0.4280\n",
      "[WDM] - Get LATEST driver version for 87.0.4280\n",
      "[WDM] - Driver [C:\\Users\\Dan\\.wdm\\drivers\\chromedriver\\win32\\87.0.4280.88\\chromedriver.exe] found in cache\n"
     ]
    },
    {
     "name": "stdout",
     "output_type": "stream",
     "text": [
      " \n"
     ]
    }
   ],
   "source": [
    "executable_path = {'executable_path': ChromeDriverManager().install()}\n",
    "browser = Browser('chrome', **executable_path, headless=False)"
   ]
  },
  {
   "cell_type": "code",
   "execution_count": 3,
   "metadata": {},
   "outputs": [],
   "source": [
    "def combine_data(episode_number, episode_url, episode_description):\n",
    "    number_list = []\n",
    "    url_list = []\n",
    "    title_list = []\n",
    "    description_list = []\n",
    "\n",
    "    for i in range(len(episode_number)):\n",
    "\n",
    "        number_list.append(episode_number[i].text.strip())\n",
    "\n",
    "        url_list.append(episode_url[i]['href'].strip('//'))\n",
    "\n",
    "        title_list.append(episode_url[i].text)\n",
    "\n",
    "        description_list.append(episode_description[i].text)\n",
    "\n",
    "    episodes = list(zip(number_list, url_list, title_list, description_list))\n",
    "    \n",
    "    return episodes"
   ]
  },
  {
   "cell_type": "code",
   "execution_count": 4,
   "metadata": {
    "scrolled": true
   },
   "outputs": [],
   "source": [
    "url = 'https://www.hgtv.com/shows/house-hunters-international/episodes/1a'\n",
    "browser.visit(url)"
   ]
  },
  {
   "cell_type": "code",
   "execution_count": 5,
   "metadata": {},
   "outputs": [],
   "source": [
    "not_done = True\n",
    "\n",
    "master_list = []"
   ]
  },
  {
   "cell_type": "code",
   "execution_count": null,
   "metadata": {},
   "outputs": [],
   "source": [
    "while not_done:\n",
    "    html = browser.html\n",
    "    soup = bs(html, 'html.parser')\n",
    "    \n",
    "    episodes = soup.find('div', id = 'mod-episode-list-1')\n",
    "    \n",
    "    episode_number = episodes.find_all('span', class_='m-EpisodeCard__a-AssetInfo')\n",
    "    episode_url = episodes.find_all('a')\n",
    "    episode_description = episodes.find_all('span', class_='truncatedText')\n",
    "    \n",
    "    master_list.append(combine_data(episode_number, episode_url, episode_description))\n",
    "    \n",
    "    time.sleep(1)\n",
    "    \n",
    "    try:\n",
    "        browser.find_by_text('Next Season').click()\n",
    "    except ElementClickInterceptedException:\n",
    "        not_done = False"
   ]
  },
  {
   "cell_type": "code",
   "execution_count": null,
   "metadata": {},
   "outputs": [],
   "source": [
    "html = browser.html\n",
    "soup = bs(html, 'html.parser')"
   ]
  },
  {
   "cell_type": "code",
   "execution_count": null,
   "metadata": {},
   "outputs": [],
   "source": []
  },
  {
   "cell_type": "code",
   "execution_count": null,
   "metadata": {},
   "outputs": [],
   "source": [
    "episodes = soup.find('div', id = 'mod-episode-list-1')"
   ]
  },
  {
   "cell_type": "code",
   "execution_count": null,
   "metadata": {},
   "outputs": [],
   "source": [
    "episode_number = episodes.find_all('span', class_='m-EpisodeCard__a-AssetInfo')\n",
    "episode_url = episodes.find_all('a')\n",
    "episode_description = episodes.find_all('span', class_='truncatedText')"
   ]
  },
  {
   "cell_type": "code",
   "execution_count": null,
   "metadata": {},
   "outputs": [],
   "source": [
    "browser.find_by_text('Next Season').click()"
   ]
  },
  {
   "cell_type": "code",
   "execution_count": null,
   "metadata": {},
   "outputs": [],
   "source": [
    "browser.quit()"
   ]
  },
  {
   "cell_type": "code",
   "execution_count": null,
   "metadata": {},
   "outputs": [],
   "source": []
  }
 ],
 "metadata": {
  "kernelspec": {
   "display_name": "Python 3",
   "language": "python",
   "name": "python3"
  },
  "language_info": {
   "codemirror_mode": {
    "name": "ipython",
    "version": 3
   },
   "file_extension": ".py",
   "mimetype": "text/x-python",
   "name": "python",
   "nbconvert_exporter": "python",
   "pygments_lexer": "ipython3",
   "version": "3.7.3"
  }
 },
 "nbformat": 4,
 "nbformat_minor": 2
}
